{
 "cells": [
  {
   "cell_type": "markdown",
   "metadata": {
    "toc": true
   },
   "source": [
    "<h1>Table of Contents<span class=\"tocSkip\"></span></h1>\n",
    "<div class=\"toc\"><ul class=\"toc-item\"></ul></div>"
   ]
  },
  {
   "cell_type": "code",
   "execution_count": 1,
   "metadata": {},
   "outputs": [
    {
     "name": "stderr",
     "output_type": "stream",
     "text": [
      "Using TensorFlow backend.\n"
     ]
    }
   ],
   "source": [
    "import numpy as np\n",
    "import torch \n",
    "import torch.nn.functional as F\n",
    "from torch import nn\n",
    "import scipy.io as io\n",
    "import matplotlib.pyplot as plt\n",
    "\n",
    "from keras.utils import to_categorical\n",
    "from torch.optim import SGD, Adam\n",
    "from torch.utils import data\n",
    "\n",
    "device = 'cuda' if torch.cuda.is_available() else 'cpu'"
   ]
  },
  {
   "cell_type": "code",
   "execution_count": 2,
   "metadata": {},
   "outputs": [],
   "source": [
    "train_snr = 15\n",
    "M=16\n",
    "NN_T = 64\n",
    "NN_R=512"
   ]
  },
  {
   "cell_type": "code",
   "execution_count": 3,
   "metadata": {},
   "outputs": [],
   "source": [
    "\n",
    "class Encoder(nn.Module):\n",
    "    def __init__(self):\n",
    "        super(Encoder, self).__init__()\n",
    "        self.fc1 = nn.Linear(M, NN_T)  # 6*6 from image dimension\n",
    "        self.fc2 = nn.Linear(NN_T, NN_T)\n",
    "        self.fc3 = nn.Linear(NN_T, 8)\n",
    "        \n",
    "    def forward(self, in_message):\n",
    "        x = F.relu(self.fc1(in_message))\n",
    "        x = F.relu(self.fc2(x))\n",
    "        x = self.fc3(x)\n",
    "        transmitted = x / torch.sqrt(2*torch.mean(x**2))\n",
    "        return transmitted\n",
    "    \n",
    "class Decoder(nn.Module):\n",
    "    def __init__(self):\n",
    "        super(Decoder, self).__init__()\n",
    "        self.fc1 = nn.Linear(4+4, NN_R)\n",
    "        self.fc2 = nn.Linear(NN_R, NN_R)\n",
    "        self.fc3 = nn.Linear(NN_R, NN_R)\n",
    "        self.fc4 = nn.Linear(NN_R, M)\n",
    "    def forward(self, in_message, in_channel):\n",
    "        nn_input = torch.cat([in_message,in_channel],-1)\n",
    "        x = F.relu(self.fc1(nn_input))\n",
    "        x = F.relu(self.fc2(x))\n",
    "        x = F.relu(self.fc3(x))\n",
    "        decoded = F.log_softmax(self.fc4(x), dim=-1)\n",
    "        return decoded\n",
    "        "
   ]
  },
  {
   "cell_type": "code",
   "execution_count": 4,
   "metadata": {},
   "outputs": [],
   "source": [
    "encoder = Encoder().to(device)\n",
    "decoder = Decoder().to(device)\n",
    "\n",
    "\n",
    "criterion= nn.NLLLoss()\n",
    "opt = Adam(list(encoder.parameters())+list(decoder.parameters()), lr=0.001)"
   ]
  },
  {
   "cell_type": "code",
   "execution_count": 5,
   "metadata": {},
   "outputs": [
    {
     "name": "stdout",
     "output_type": "stream",
     "text": [
      "epoch = 0\n",
      "epoch = 1\n",
      "epoch = 2\n",
      "epoch = 3\n",
      "epoch = 4\n",
      "epoch = 5\n",
      "epoch = 6\n",
      "epoch = 7\n",
      "epoch = 8\n",
      "epoch = 9\n",
      "epoch = 10\n",
      "epoch = 11\n",
      "epoch = 12\n",
      "epoch = 13\n",
      "epoch = 14\n",
      "epoch = 15\n",
      "epoch = 16\n",
      "epoch = 17\n",
      "epoch = 18\n",
      "epoch = 19\n"
     ]
    }
   ],
   "source": [
    "loss = np.array([])\n",
    "batch = 200000\n",
    "# batch = 2000\n",
    "\n",
    "csi_real_set = torch.randn((M*batch, 2,1))/np.sqrt(2)\n",
    "csi_imag_set = torch.randn((M*batch, 2,1))/np.sqrt(2)\n",
    "\n",
    "data_set = data.TensorDataset(csi_real_set, csi_imag_set)\n",
    "training_generator = data.DataLoader(data_set, batch_size=2048, shuffle=True, num_workers=4)\n",
    "\n",
    "for epoches in np.arange(20):\n",
    "    print('epoch =', epoches)\n",
    "    for ch_real, ch_imag in training_generator:\n",
    "        csi_real = ch_real.to(device)\n",
    "        csi_imag = ch_imag.to(device)\n",
    "        \n",
    "        messages = np.random.randint(0,M, csi_real.shape[0])\n",
    "        \n",
    "        train_data = torch.from_numpy(to_categorical(messages)).to(device)\n",
    "        train_label = torch.from_numpy(messages).long().to(device)\n",
    "        \n",
    "\n",
    "        transmitted =encoder(train_data)\n",
    "        tx_real = transmitted[:, np.arange(0,4)].view(-1,2,2)\n",
    "        tx_imag = transmitted[:, np.arange(4,8)].view(-1,2,2)\n",
    "        \n",
    "        rx_real = torch.bmm(tx_real, csi_real) - torch.bmm(tx_imag, csi_imag)\n",
    "        rx_imag = torch.bmm(tx_real, csi_imag) + torch.bmm(tx_imag, csi_real)\n",
    "        \n",
    "        rx = torch.cat([rx_real, rx_imag], axis=-2).view(-1,4)\n",
    "      \n",
    "        sigma = np.sqrt(0.5/(np.power(10, train_snr/10)))\n",
    "        noise = (sigma * torch.randn(rx.shape)).to(device)\n",
    "        rx = rx + noise\n",
    "        \n",
    "        csi = torch.cat([csi_real, csi_imag], axis=-2).view(-1,4)\n",
    "        \n",
    "        y_pred = decoder(rx, csi)\n",
    "        cross_entropy = criterion(y_pred, train_label)\n",
    "        \n",
    "        opt.zero_grad()\n",
    "       \n",
    "        cross_entropy.backward()\n",
    "        opt.step()\n",
    "      \n",
    "\n",
    "    l = cross_entropy.to('cpu').detach().numpy()\n",
    "    loss = np.append(loss, l)\n",
    "    \n",
    "        \n",
    "        \n",
    "        \n",
    "        \n",
    "        "
   ]
  },
  {
   "cell_type": "code",
   "execution_count": 6,
   "metadata": {},
   "outputs": [
    {
     "name": "stdout",
     "output_type": "stream",
     "text": [
      "(20,)\n",
      "[0.0080555  0.00811348 0.00817146 0.00822944 0.00828741 0.00834539\n",
      " 0.00791129 0.00771348 0.00752331 0.00786079 0.00731485 0.00845758\n",
      " 0.00812069 0.00697618 0.00695291 0.00674387 0.00653484 0.0063258\n",
      " 0.00611677 0.00590773]\n",
      "(20,)\n"
     ]
    },
    {
     "data": {
      "image/png": "[encoded data removed]",
      "text/plain": [
       "<Figure size 432x288 with 1 Axes>"
      ]
     },
     "metadata": {
      "needs_background": "light"
     },
     "output_type": "display_data"
    }
   ],
   "source": [
    "print(loss.shape)\n",
    "from scipy.ndimage.filters import gaussian_filter1d\n",
    "from scipy.optimize import curve_fit\n",
    "from scipy.signal import savgol_filter \n",
    "import tikzplotlib\n",
    "\n",
    "\n",
    "qqq = loss\n",
    "\n",
    "\n",
    "# plt.figure()\n",
    "# plt.loglog(loss)\n",
    "\n",
    "aaa = np.array(savgol_filter(qqq,11,1))\n",
    "print(aaa)\n",
    "print(aaa.shape)\n",
    "\n",
    "x = np.arange(1,aaa.shape[0]+1)*1024\n",
    "\n",
    "data = np.concatenate([x.reshape(-1,1), aaa.reshape(-1,1)], -1)\n",
    "\n",
    "np.savetxt('open_loss.txt', data[::100,:])\n",
    "\n",
    "plt.loglog(data[::100,0],data[::100,1])\n",
    "import tikzplotlib\n",
    "tikzplotlib.save(\"open_loss.tex\")"
   ]
  },
  {
   "cell_type": "code",
   "execution_count": 7,
   "metadata": {},
   "outputs": [],
   "source": [
    "# checkpoint = torch.load('Autoencoder-alamouti-torch-model')\n",
    "# encoder.load_state_dict(checkpoint['encoder'])\n",
    "# decoder.load_state_dict(checkpoint['decoder'])\n",
    "# # tx_opt.load_state_dict(checkpoint['tx_opt'])\n",
    "# # rx_opt.load_state_dict(checkpoint['rx_opt'])"
   ]
  },
  {
   "cell_type": "code",
   "execution_count": 8,
   "metadata": {},
   "outputs": [],
   "source": [
    "\n",
    "\n",
    "\n",
    "SER = np.array([])\n",
    "with torch.no_grad():\n",
    "    for test_snr in np.arange(0,26,2):\n",
    "        ser_temp = np.array([])\n",
    "        for temp in np.arange(100):\n",
    "            batch = 40\n",
    "            messages = np.arange(M)\n",
    "            messages = np.tile(messages, batch)\n",
    "            test_labels = to_categorical(messages)\n",
    "\n",
    "            csi_real = (torch.randn((M*batch, 2,1))/np.sqrt(2)).to(device)\n",
    "            csi_imag = (torch.randn((M*batch, 2,1))/np.sqrt(2)).to(device)\n",
    "\n",
    "\n",
    "            test_data = torch.from_numpy(test_labels).to(device)\n",
    "            test_label = torch.from_numpy(messages).to(device)\n",
    "\n",
    "            transmitted =encoder(test_data)\n",
    "            tx_real = transmitted[:, np.arange(0,4)].view(-1,2,2)\n",
    "            tx_imag = transmitted[:, np.arange(4,8)].view(-1,2,2)\n",
    "\n",
    "            rx_real = torch.bmm(tx_real, csi_real) - torch.bmm(tx_imag, csi_imag)\n",
    "            rx_imag = torch.bmm(tx_real, csi_imag) + torch.bmm(tx_imag, csi_real)\n",
    "\n",
    "            rx = torch.cat([rx_real, rx_imag], axis=-2).view(-1,4)\n",
    "\n",
    "\n",
    "            sigma = np.sqrt(0.5/(np.power(10, test_snr/10)))\n",
    "            noise = (sigma * torch.randn(rx.shape)).to(device)\n",
    "            rx = rx + noise\n",
    "\n",
    "            csi = torch.cat([csi_real, csi_imag], axis=-2).view(-1,4)\n",
    "\n",
    "            y_pred = decoder(rx, csi)\n",
    "\n",
    "            classification = torch.argmax(y_pred, axis=-1).to('cpu').detach().numpy()\n",
    "\n",
    "            correct = np.equal(classification , messages)\n",
    "\n",
    "\n",
    "            ser = 1- np.mean(correct)\n",
    "\n",
    "            ser_temp = np.append(ser_temp, ser)\n",
    "        ser_ave = np.mean(ser_temp)\n",
    "\n",
    "\n",
    "\n",
    "        SER = np.append(SER ,ser_ave)\n",
    "    \n",
    "\n",
    "\n",
    "        \n",
    "        \n",
    "        "
   ]
  },
  {
   "cell_type": "code",
   "execution_count": 9,
   "metadata": {},
   "outputs": [
    {
     "data": {
      "text/plain": [
       "<matplotlib.legend.Legend at 0x7f78805e0710>"
      ]
     },
     "execution_count": 9,
     "metadata": {},
     "output_type": "execute_result"
    },
    {
     "data": {
      "image/png": "[encoded data removed]",
      "text/plain": [
       "<Figure size 1152x648 with 1 Axes>"
      ]
     },
     "metadata": {
      "needs_background": "light"
     },
     "output_type": "display_data"
    }
   ],
   "source": [
    "data = io.loadmat('baseline/Alamouti_SER_theory-4QAM.mat')\n",
    "\n",
    "base_line = np.array(data['ser'])\n",
    "\n",
    "plt.figure(figsize=(16,9))\n",
    "\n",
    "pl1, pl2 = plt.semilogy(np.arange(0,22), base_line[0,0:22], '-*',\n",
    "                           np.arange(0,26,2), SER, '-<')\n",
    "# , SNR_array, SER, '-o'\n",
    "plt.grid()\n",
    "plt.legend([pl1, pl2],['Baseline', \n",
    "                           'AlamotiEncoderLearntDecoder'])"
   ]
  },
  {
   "cell_type": "code",
   "execution_count": 10,
   "metadata": {},
   "outputs": [
    {
     "name": "stdout",
     "output_type": "stream",
     "text": [
      "[[3.5700e-01 2.8920e-01 2.4130e-01 1.9580e-01 1.4550e-01 1.0940e-01\n",
      "  8.2400e-02 5.6000e-02 4.1700e-02 2.9200e-02 1.9756e-02 1.3086e-02\n",
      "  8.8660e-03 5.7840e-03 3.8160e-03 2.4580e-03 1.6020e-03 9.7500e-04\n",
      "  6.6100e-04 3.9900e-04 2.6300e-04 1.7100e-04 9.8000e-05 5.0000e-05\n",
      "  4.8000e-05 2.4000e-05]]\n"
     ]
    },
    {
     "data": {
      "text/plain": [
       "[<matplotlib.lines.Line2D at 0x7f78804a0bd0>]"
      ]
     },
     "execution_count": 10,
     "metadata": {},
     "output_type": "execute_result"
    },
    {
     "data": {
      "image/png": "[encoded data removed]",
      "text/plain": [
       "<Figure size 432x288 with 1 Axes>"
      ]
     },
     "metadata": {
      "needs_background": "light"
     },
     "output_type": "display_data"
    }
   ],
   "source": [
    "data = io.loadmat('baseline/Alamouti_SER_theory-4QAM.mat')\n",
    "\n",
    "base_line = np.array(data['ser'])\n",
    "print(base_line)\n",
    "plt.semilogy(np.arange(26), base_line[0,:])"
   ]
  },
  {
   "cell_type": "code",
   "execution_count": 11,
   "metadata": {},
   "outputs": [],
   "source": [
    "# torch.save({\n",
    "#             'encoder': encoder.state_dict(),\n",
    "#             'decoder': decoder.state_dict(),\n",
    "#             'opt': opt.state_dict(),\n",
    "            \n",
    "#             }, 'Autoencoder-alamouti-torch-model')\n"
   ]
  },
  {
   "cell_type": "code",
   "execution_count": 12,
   "metadata": {},
   "outputs": [
    {
     "name": "stdout",
     "output_type": "stream",
     "text": [
      "[3.51343750e-01 2.34046875e-01 1.43843750e-01 7.86406250e-02\n",
      " 3.84531250e-02 1.75781250e-02 8.23437500e-03 3.20312500e-03\n",
      " 1.23437500e-03 5.46875000e-04 2.96875000e-04 1.25000000e-04\n",
      " 6.25000000e-05]\n"
     ]
    }
   ],
   "source": [
    "print(SER)"
   ]
  },
  {
   "cell_type": "code",
   "execution_count": 13,
   "metadata": {},
   "outputs": [
    {
     "name": "stdout",
     "output_type": "stream",
     "text": [
      "(6400, 8)\n"
     ]
    },
    {
     "data": {
      "text/plain": [
       "Text(0.5, 1.0, 'Tx sym, Ant 2, T2')"
      ]
     },
     "execution_count": 13,
     "metadata": {},
     "output_type": "execute_result"
    },
    {
     "data": {
      "image/png": "[encoded data removed]",
      "text/plain": [
       "<Figure size 720x648 with 4 Axes>"
      ]
     },
     "metadata": {
      "needs_background": "light"
     },
     "output_type": "display_data"
    }
   ],
   "source": [
    "batch = 400\n",
    "messages = np.arange(M)\n",
    "messages = np.tile(messages, batch)\n",
    "test_labels = to_categorical(messages)\n",
    "\n",
    "csi_real = (torch.randn((M*batch, 2,1))/np.sqrt(2)).to(device)\n",
    "csi_imag = (torch.randn((M*batch, 2,1))/np.sqrt(2)).to(device)\n",
    "\n",
    "\n",
    "test_data = torch.from_numpy(test_labels).to(device)\n",
    "test_label = torch.from_numpy(messages).to(device)\n",
    "\n",
    "transmitted_signals =encoder(test_data).to('cpu').detach().numpy()\n",
    "\n",
    "    \n",
    "print(transmitted_signals.shape)   \n",
    "\n",
    "fig, axs = plt.subplots(2, 2, figsize=(10,9))\n",
    "ax1 = axs[0, 0]\n",
    "ax2 = axs[0, 1]\n",
    "ax3 = axs[1, 0]\n",
    "ax4 = axs[1, 1]\n",
    "for axe in [ax1, ax2, ax3, ax4]:\n",
    "    axe.grid(True)\n",
    "    axe.set_xlim([-1.5, 1.5])\n",
    "    axe.set_ylim([-1.5, 1.5])\n",
    "    axe.set_xlabel('Real')\n",
    "    axe.set_ylabel('Imaginary')\n",
    "\n",
    "\n",
    "color_map = ['r', 'b', 'g','r','c', 'm','y','k','w','r', 'b', 'g','r','c', 'm','y','k','w']\n",
    "marker_style = ['o', 'v', '^', '<', '>', '8', 's', 'p', '*', 'h', 'H', 'D', 'd', 'P', 'X','o']\n",
    "\n",
    "for i in  np.arange(4):\n",
    "    ax1.scatter(transmitted_signals[i,0], transmitted_signals[i,4], c=color_map[i], s=80, marker=marker_style[i])\n",
    "    ax2.scatter(transmitted_signals[i,1], transmitted_signals[i,5], c=color_map[i], s=80, marker=marker_style[i])\n",
    "    ax3.scatter(transmitted_signals[i,2], transmitted_signals[i,6], c=color_map[i], s=80, marker=marker_style[i])\n",
    "    ax4.scatter(transmitted_signals[i,3], transmitted_signals[i,7], c=color_map[i], s=80, marker=marker_style[i])\n",
    "\n",
    "\n",
    "\n",
    "ax1.set_title('Tx sym, Ant 1, T1')\n",
    "ax2.set_title('Tx sym, Ant 2, T1')\n",
    "ax3.set_title('Tx sym, Ant 1, T2')\n",
    "ax4.set_title('Tx sym, Ant 2, T2')\n"
   ]
  },
  {
   "cell_type": "code",
   "execution_count": null,
   "metadata": {},
   "outputs": [],
   "source": []
  }
 ],
 "metadata": {
  "kernelspec": {
   "display_name": "Python 3",
   "language": "python",
   "name": "python3"
  },
  "language_info": {
   "codemirror_mode": {
    "name": "ipython",
    "version": 3
   },
   "file_extension": ".py",
   "mimetype": "text/x-python",
   "name": "python",
   "nbconvert_exporter": "python",
   "pygments_lexer": "ipython3",
   "version": "3.7.6"
  },
  "toc": {
   "base_numbering": 1,
   "nav_menu": {},
   "number_sections": true,
   "sideBar": true,
   "skip_h1_title": false,
   "title_cell": "Table of Contents",
   "title_sidebar": "Contents",
   "toc_cell": true,
   "toc_position": {},
   "toc_section_display": true,
   "toc_window_display": false
  }
 },
 "nbformat": 4,
 "nbformat_minor": 2
}
