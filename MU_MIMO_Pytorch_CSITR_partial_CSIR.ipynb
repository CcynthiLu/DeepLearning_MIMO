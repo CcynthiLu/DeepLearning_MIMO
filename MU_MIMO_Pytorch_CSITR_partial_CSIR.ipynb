{
 "cells": [
  {
   "cell_type": "markdown",
   "metadata": {
    "toc": true
   },
   "source": [
    "<h1>Table of Contents<span class=\"tocSkip\"></span></h1>\n",
    "<div class=\"toc\"><ul class=\"toc-item\"></ul></div>"
   ]
  },
  {
   "cell_type": "code",
   "execution_count": 1,
   "metadata": {
    "colab": {
     "base_uri": "https://localhost:8080/",
     "height": 80
    },
    "colab_type": "code",
    "id": "P4eM9iEYBEPm",
    "outputId": "095b40b0-89f5-4be5-884c-397bbbd0d85c"
   },
   "outputs": [
    {
     "name": "stdout",
     "output_type": "stream",
     "text": [
      "cuda\n"
     ]
    }
   ],
   "source": [
    "import numpy as np\n",
    "import torch \n",
    "import torch.nn.functional as F\n",
    "from torch import nn\n",
    "import scipy.io as io\n",
    "import matplotlib.pyplot as plt\n",
    "\n",
    "# from keras.utils import to_categorical\n",
    "from torch.optim import SGD, Adam\n",
    "from torch.utils import data\n",
    "\n",
    "device = 'cuda' if torch.cuda.is_available() else 'cpu'\n",
    "print(device)"
   ]
  },
  {
   "cell_type": "code",
   "execution_count": 2,
   "metadata": {
    "colab": {},
    "colab_type": "code",
    "id": "iWD-H5xQBEPp"
   },
   "outputs": [],
   "source": [
    "\n",
    "M=4\n",
    "NN_T = 512\n",
    "NN_R=256"
   ]
  },
  {
   "cell_type": "code",
   "execution_count": 3,
   "metadata": {},
   "outputs": [],
   "source": [
    "# a = np.random.randn(1,1000000)/np.sqrt(2)\n",
    "\n",
    "# a[a>0.9*np.max(np.abs(a))] = 0.9**np.max(np.abs(a))\n",
    "\n",
    "\n",
    "# counts, bins = np.histogram(a,1000)\n",
    "# plt.hist(bins[:-1], bins, weights=counts)"
   ]
  },
  {
   "cell_type": "code",
   "execution_count": 4,
   "metadata": {
    "colab": {},
    "colab_type": "code",
    "id": "Al9ZMmg1BEPr"
   },
   "outputs": [],
   "source": [
    "class Encoder(nn.Module):\n",
    "    def __init__(self):\n",
    "        super(Encoder, self).__init__()\n",
    "        self.fc1 = nn.Linear(M**2 + 8, NN_T) \n",
    "        self.bn1 = nn.BatchNorm1d(NN_T)\n",
    "        \n",
    "        self.fc2 = nn.Linear(NN_T, NN_T)\n",
    "        self.bn2 = nn.BatchNorm1d(NN_T)\n",
    "        self.fc3 = nn.Linear(NN_T, 4)\n",
    "        \n",
    "    def forward(self, in_message, in_channel):\n",
    "        x = torch.cat([in_message,in_channel],-1)\n",
    "        x = self.bn1(F.relu(self.fc1(x)))\n",
    "        x = self.bn2(F.relu(self.fc2(x)))\n",
    "        x = self.fc3(x)\n",
    "        transmitted = x / (torch.sqrt(2*torch.mean(x**2)))\n",
    "        return transmitted\n",
    "        \n",
    "class Decoder(nn.Module):\n",
    "    def __init__(self):\n",
    "        super(Decoder, self).__init__()\n",
    "        self.de_fc1 = nn.Linear(2 + 4, NN_R)  \n",
    "        self.bn1 = nn.BatchNorm1d(NN_R)\n",
    "        \n",
    "        self.de_fc2 = nn.Linear(NN_R, NN_R)\n",
    "        self.bn2 = nn.BatchNorm1d(NN_R)\n",
    "        \n",
    "        self.de_fc3 = nn.Linear(NN_R, NN_R)\n",
    "        self.bn3 = nn.BatchNorm1d(NN_R)\n",
    "        \n",
    "        self.de_fc4 = nn.Linear(NN_R, M)\n",
    "        self.bn4 = nn.BatchNorm1d(M)\n",
    "    def forward(self, in_message, in_channel):\n",
    "        x = torch.cat([in_message,in_channel],-1)\n",
    "#         x = in_message\n",
    "        x = self.bn1(F.relu(self.de_fc1(x)))\n",
    "        x = self.bn2(F.relu(self.de_fc2(x)))\n",
    "        x = self.bn3(F.relu(self.de_fc3(x)))\n",
    "#         x = self.de_fc4(x)\n",
    "        x = self.bn4(self.de_fc4(x))\n",
    "        decoded = F.log_softmax(x, dim=-1)\n",
    "        return decoded\n",
    "        \n",
    "        \n",
    "        \n"
   ]
  },
  {
   "cell_type": "code",
   "execution_count": 5,
   "metadata": {
    "colab": {
     "base_uri": "https://localhost:8080/",
     "height": 357
    },
    "colab_type": "code",
    "id": "WnFI9COKBEPu",
    "outputId": "178fc28b-3f21-47a6-f428-672f5d618013"
   },
   "outputs": [
    {
     "name": "stdout",
     "output_type": "stream",
     "text": [
      "epoch= 0\n",
      "epoch= 1\n",
      "epoch= 2\n",
      "epoch= 3\n",
      "epoch= 4\n",
      "epoch= 5\n",
      "epoch= 6\n",
      "epoch= 7\n",
      "epoch= 8\n",
      "epoch= 9\n",
      "epoch= 10\n",
      "epoch= 11\n",
      "epoch= 12\n",
      "epoch= 13\n",
      "epoch= 14\n",
      "epoch= 15\n",
      "epoch= 16\n",
      "epoch= 17\n",
      "epoch= 18\n",
      "epoch= 19\n"
     ]
    }
   ],
   "source": [
    "\n",
    "\n",
    "encoder = Encoder().to(device)\n",
    "\n",
    "decoder1=Decoder().to(device)\n",
    "decoder2=Decoder().to(device)\n",
    "criterion= nn.NLLLoss()\n",
    "\n",
    "params = list(encoder.parameters()) + list(decoder1.parameters())+ list(decoder2.parameters())\n",
    "\n",
    "\n",
    "opt = Adam(params, lr = 0.001)\n",
    "\n",
    "loss = np.array([])\n",
    "\n",
    "batch = M * 6400000\n",
    "ch_real_set = torch.randn((batch, 2,2))/np.sqrt(2)\n",
    "ch_imag_set = torch.randn((batch, 2,2))/np.sqrt(2)\n",
    "\n",
    "\n",
    "\n",
    "ch_set = data.TensorDataset(ch_real_set, ch_imag_set)\n",
    "training_generator= data.DataLoader(ch_set, batch_size=2048, shuffle=True, num_workers=4)\n",
    "\n",
    "for epochs in range(20):\n",
    "    print('epoch=', epochs)\n",
    "    for csi_real,csi_imag in training_generator:\n",
    "        csi_real = csi_real.to(device)\n",
    "        csi_imag = csi_imag.to(device)\n",
    "        csi = torch.cat([csi_real.view(-1,4), csi_imag.view(-1,4)], -1)\n",
    "        csi1 = torch.cat([csi[:,0:2], csi[:,4:6]], -1)\n",
    "        csi2 = torch.cat([csi[:,2:4], csi[:,6:8]], -1)\n",
    "        \n",
    "        label1 = np.random.randint(0,M, (csi.shape[0]))\n",
    "        label2 = np.random.randint(0,M, (csi.shape[0]))\n",
    "        \n",
    "        \n",
    "        train_data = 4*label1 + label2\n",
    "        \n",
    "        train_data = F.one_hot(torch.from_numpy(train_data)).float().to(device)\n",
    "      \n",
    "    \n",
    "        \n",
    "        label1 = torch.from_numpy(label1).to(device)\n",
    "        label2 = torch.from_numpy(label2).to(device)\n",
    "        \n",
    "    \n",
    "       \n",
    "        transmitted =encoder(train_data, csi)\n",
    "        \n",
    "        \n",
    "        transmitted_real = transmitted[:, np.arange(0,2)]\n",
    "        transmitted_imag = transmitted[:, np.arange(2,4)]\n",
    "        \n",
    "        tx_real = transmitted_real.view(-1, 2,1)\n",
    "        tx_imag = transmitted_imag.view(-1, 2,1)\n",
    "       \n",
    "\n",
    "        rx_real = torch.bmm(csi_real, tx_real) - torch.bmm(csi_imag, tx_imag)\n",
    "        rx_imag = torch.bmm(csi_real, tx_imag) + torch.bmm(csi_imag, tx_real)\n",
    "       \n",
    "        rx1 = torch.cat([rx_real[:,0,:], rx_imag[:,0,:]], axis=-1)\n",
    "       \n",
    "        rx2 = torch.cat([rx_real[:,1,:], rx_imag[:,1,:]], axis=-1)\n",
    "      \n",
    "        \n",
    "        sigma = np.sqrt(0.5/np.power(10, 15/10))\n",
    "        rx1 = rx1 + (torch.randn(rx1.shape)*sigma).to(device)\n",
    "  \n",
    "        rx2 = rx2 + (torch.randn(rx2.shape)*sigma).to(device)\n",
    "    \n",
    "\n",
    "        y_pred1 = decoder1(rx1, csi1)\n",
    "        y_pred2 = decoder2(rx2, csi2)\n",
    "       \n",
    "        \n",
    "        cross_entropy = criterion(y_pred1, label1) + criterion(y_pred2, label2)\n",
    "\n",
    "        opt.zero_grad()\n",
    "        \n",
    "        \n",
    "        cross_entropy.backward()\n",
    "        opt.step()\n",
    "        \n",
    "\n",
    "        l = cross_entropy.item()\n",
    "        loss = np.append(loss, l)\n",
    "    "
   ]
  },
  {
   "cell_type": "code",
   "execution_count": 6,
   "metadata": {},
   "outputs": [
    {
     "name": "stdout",
     "output_type": "stream",
     "text": [
      "(250000,)\n"
     ]
    }
   ],
   "source": [
    "print(loss.shape)"
   ]
  },
  {
   "cell_type": "code",
   "execution_count": 46,
   "metadata": {
    "colab": {
     "base_uri": "https://localhost:8080/"
    },
    "colab_type": "code",
    "id": "yI9_517iBEPw",
    "outputId": "f86a9277-671b-4e1f-8505-0d5ed86d2b04"
   },
   "outputs": [
    {
     "name": "stdout",
     "output_type": "stream",
     "text": [
      "[ 1  2  3  4  5  6  7  8  9 10]\n",
      "(2500,)\n"
     ]
    },
    {
     "data": {
      "image/png": "[encoded data removed]",
      "text/plain": [
       "<Figure size 432x288 with 1 Axes>"
      ]
     },
     "metadata": {
      "needs_background": "light"
     },
     "output_type": "display_data"
    }
   ],
   "source": [
    "from scipy.ndimage.filters import gaussian_filter1d\n",
    "from scipy.optimize import curve_fit\n",
    "from scipy.signal import savgol_filter \n",
    "import tikzplotlib\n",
    "\n",
    "\n",
    "qqq = loss\n",
    "# ysmoothed = gaussian_filter1d(qqq, sigma=0.1)\n",
    "\n",
    "\n",
    "# plt.figure()\n",
    "# plt.loglog(loss)\n",
    "\n",
    "aaa = savgol_filter(qqq,101,1)\n",
    "\n",
    "\n",
    "x = np.arange(1,qqq.shape[0]+1)\n",
    "print(x[0:10])\n",
    "# plt.loglog(x,aaa)\n",
    "\n",
    "\n",
    "data = np.concatenate([x.reshape(-1,1), aaa.reshape(-1,1)], -1)\n",
    "plt.loglog(data[::10,0],data[::10,1]/2)\n",
    "\n",
    "print(data[::100,0].shape)\n",
    "\n",
    "\n",
    "\n",
    "np.savetxt('mu_mimo_loss.txt', data[::100,:])\n",
    "\n"
   ]
  },
  {
   "cell_type": "code",
   "execution_count": 53,
   "metadata": {
    "colab": {},
    "colab_type": "code",
    "id": "frohmjvYBEPz"
   },
   "outputs": [],
   "source": [
    "torch.cuda.empty_cache()\n",
    "SER =np.array([])\n",
    "num_iter=1\n",
    "with torch.no_grad():\n",
    "    for snr in np.arange(0, 40,1):\n",
    "        torch.cuda.empty_cache()\n",
    "        \n",
    "        batch = M * 16*10000\n",
    "        \n",
    "        ch_real = ((torch.randn((batch, 2,2))/np.sqrt(2))).to(device)\n",
    "        ch_imag = ((torch.randn((batch, 2,2))/np.sqrt(2))).to(device)\n",
    "\n",
    "        total_corr = 0\n",
    "        for i in range(num_iter):\n",
    "            test_messages = np.arange(M)\n",
    "            test_messages = np.tile(test_messages, int(batch/M))\n",
    "\n",
    "            test_mess1 = np.random.permutation(test_messages)\n",
    "            test_mess2 = np.random.permutation(test_messages)\n",
    "\n",
    "\n",
    "            csi = torch.cat([ch_real.view(-1,4), ch_imag.view(-1,4)], -1).to(device)\n",
    "            csi1 = torch.cat([csi[:,0:2], csi[:,4:6]], -1).to(device)\n",
    "            csi2 = torch.cat([csi[:,2:4], csi[:,6:8]], -1).to(device)\n",
    "\n",
    "\n",
    "            test_data = 4*test_mess1 + test_mess2\n",
    "            test_data_set= F.one_hot(torch.from_numpy(test_data)).float().to(device)\n",
    "\n",
    "\n",
    "\n",
    "\n",
    "            transmitted =encoder(test_data_set, csi)\n",
    "\n",
    "            transmitted_real = transmitted[:, np.arange(0,2)]\n",
    "            transmitted_imag = transmitted[:, np.arange(2,4)]\n",
    "\n",
    "            tx_real = transmitted_real.view(-1, 2,1)\n",
    "            tx_imag = transmitted_imag.view(-1, 2,1)\n",
    "\n",
    "            rx_real = torch.bmm(ch_real, tx_real) - torch.bmm(ch_imag, tx_imag)\n",
    "            rx_imag = torch.bmm(ch_real, tx_imag) + torch.bmm(ch_imag, tx_real)\n",
    "\n",
    "            rx1 = torch.cat([rx_real[:,0,:], rx_imag[:,0,:]], axis=-1)\n",
    "            rx2 = torch.cat([rx_real[:,1,:], rx_imag[:,1,:]], axis=-1)\n",
    "\n",
    "            sigma = np.sqrt(0.5/np.power(10, snr/10))\n",
    "            rx1 = rx1 + (torch.randn(rx1.shape)*sigma).to(device)\n",
    "            rx2 = rx2 + (torch.randn(rx2.shape)*sigma).to(device)\n",
    "\n",
    "            y_pred1 = decoder1(rx1, csi1)\n",
    "            y_pred2 = decoder2(rx2, csi2)\n",
    "\n",
    "\n",
    "            classification1 = torch.argmax(y_pred1, axis=-1).to('cpu').detach().numpy()\n",
    "            classification2 = torch.argmax(y_pred2, axis=-1).to('cpu').detach().numpy()\n",
    "\n",
    "            correct1 = np.equal(classification1 , test_mess1)\n",
    "            correct2 = np.equal(classification2 , test_mess2)\n",
    "            correct = sum(correct1) + sum(correct2)\n",
    "          \n",
    "            total_corr = total_corr + correct\n",
    "        ser =1 - total_corr / (batch*2*num_iter)\n",
    "\n",
    "        SER = np.append(SER, ser)\n"
   ]
  },
  {
   "cell_type": "code",
   "execution_count": 54,
   "metadata": {
    "colab": {},
    "colab_type": "code",
    "id": "s8BtpL0ZBEP1"
   },
   "outputs": [],
   "source": [
    "ser_theory = io.loadmat('baseline/zero_forcing_SER.mat')\n",
    "base_line = ser_theory['SER'] \n",
    "\n",
    "np.savez('CSIT-partial-CSIR-SER.npz', SER = SER)"
   ]
  },
  {
   "cell_type": "code",
   "execution_count": 55,
   "metadata": {
    "colab": {
     "base_uri": "https://localhost:8080/",
     "height": 279
    },
    "colab_type": "code",
    "id": "LmgYf3kUBEP3",
    "outputId": "56e52534-b153-4d4e-dd34-7bfd9bae7c03"
   },
   "outputs": [
    {
     "data": {
      "image/png": "[encoded data removed]",
      "text/plain": [
       "<Figure size 1152x648 with 1 Axes>"
      ]
     },
     "metadata": {
      "needs_background": "light"
     },
     "output_type": "display_data"
    }
   ],
   "source": [
    "plt.figure(figsize=(16,9))\n",
    "base=np.array([0.391,0.317, 0.24,0.1744,0.1280, 0.0788,0.056, 0.035, 0.0223, 0.0152, 0.0091])\n",
    "p1,p2 = plt.semilogy(np.arange(0, 40,1), SER, np.arange(0,21,2), base)\n",
    "plt.xlabel('SNR')\n",
    "plt.ylabel('SER')\n",
    "plt.legend([p1,p2],['MU-MIMO','Zero-forcing-transmitter'])\n",
    "plt.grid()\n",
    "\n",
    "import tikzplotlib as tikz\n",
    "tikz.save('ser_vd.tex')"
   ]
  },
  {
   "cell_type": "code",
   "execution_count": 56,
   "metadata": {},
   "outputs": [
    {
     "name": "stdout",
     "output_type": "stream",
     "text": [
      "[4.08585156e-01 3.68770313e-01 3.26864844e-01 2.85632813e-01\n",
      " 2.42182031e-01 2.00000000e-01 1.60190625e-01 1.23572656e-01\n",
      " 9.23648437e-02 6.57578125e-02 4.42023437e-02 2.87507812e-02\n",
      " 1.75812500e-02 1.03070312e-02 6.00312500e-03 3.50078125e-03\n",
      " 2.12500000e-03 1.38125000e-03 1.02578125e-03 8.21093750e-04\n",
      " 6.43750000e-04 5.65625000e-04 5.05468750e-04 4.97656250e-04\n",
      " 4.40625000e-04 4.30468750e-04 4.08593750e-04 3.98437500e-04\n",
      " 3.56250000e-04 3.81250000e-04 3.85156250e-04 3.71875000e-04\n",
      " 3.32031250e-04 3.56250000e-04 3.85156250e-04 3.62500000e-04\n",
      " 3.41406250e-04 3.34375000e-04 3.39062500e-04 3.22656250e-04]\n"
     ]
    },
    {
     "data": {
      "text/plain": [
       "[<matplotlib.lines.Line2D at 0x7fea04d0e3d0>]"
      ]
     },
     "execution_count": 56,
     "metadata": {},
     "output_type": "execute_result"
    },
    {
     "data": {
      "image/png": "[encoded data removed]",
      "text/plain": [
       "<Figure size 432x288 with 1 Axes>"
      ]
     },
     "metadata": {
      "needs_background": "light"
     },
     "output_type": "display_data"
    }
   ],
   "source": [
    "print(SER)\n",
    "\n",
    "np.savez('mu-mimo-ser.npz',ser=SER)\n",
    "SER1 = np.load('mu-mimo-ser.npz')['ser']\n",
    "plt.semilogy(SER1)"
   ]
  },
  {
   "cell_type": "code",
   "execution_count": null,
   "metadata": {},
   "outputs": [],
   "source": [
    "\n",
    "# torch.save({\n",
    "#             'encoder': encoder.state_dict(),\n",
    "#             'decoder1': decoder1.state_dict(),\n",
    "#             'decoder2': decoder2.state_dict(), \n",
    "#             }, 'Autoencoder-MU-MIMO')\n",
    "\n",
    "# encoder = Encoder().to(device)\n",
    "# decoder = Decoder().to(device)\n",
    "# tx_opt = Adam(encoder.parameters(), lr = 0.001)\n",
    "# rx_opt = Adam(decoder.parameters(), lr = 0.008)\n",
    "\n",
    "# checkpoint = torch.load('Autoencoder-MU-MIMO')\n",
    "# encoder.load_state_dict(checkpoint['encoder'])\n",
    "# decoder.load_state_dict(checkpoint['decoder1'])\n",
    "# decoder.load_state_dict(checkpoint['decoder2'])\n",
    "\n",
    "\n"
   ]
  },
  {
   "cell_type": "code",
   "execution_count": null,
   "metadata": {},
   "outputs": [],
   "source": []
  }
 ],
 "metadata": {
  "accelerator": "GPU",
  "colab": {
   "collapsed_sections": [],
   "name": "MU-MIMO_Pytorch_CSIT.ipynb",
   "provenance": []
  },
  "kernelspec": {
   "display_name": "Python 3",
   "language": "python",
   "name": "python3"
  },
  "language_info": {
   "codemirror_mode": {
    "name": "ipython",
    "version": 3
   },
   "file_extension": ".py",
   "mimetype": "text/x-python",
   "name": "python",
   "nbconvert_exporter": "python",
   "pygments_lexer": "ipython3",
   "version": "3.7.7"
  },
  "toc": {
   "base_numbering": 1,
   "nav_menu": {},
   "number_sections": true,
   "sideBar": true,
   "skip_h1_title": false,
   "title_cell": "Table of Contents",
   "title_sidebar": "Contents",
   "toc_cell": true,
   "toc_position": {},
   "toc_section_display": true,
   "toc_window_display": false
  }
 },
 "nbformat": 4,
 "nbformat_minor": 1
}
