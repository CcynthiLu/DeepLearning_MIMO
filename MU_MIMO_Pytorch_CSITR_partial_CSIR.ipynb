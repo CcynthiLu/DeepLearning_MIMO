{
 "cells": [
  {
   "cell_type": "markdown",
   "metadata": {
    "toc": true
   },
   "source": [
    "<h1>Table of Contents<span class=\"tocSkip\"></span></h1>\n",
    "<div class=\"toc\"><ul class=\"toc-item\"></ul></div>"
   ]
  },
  {
   "cell_type": "code",
   "execution_count": 1,
   "metadata": {
    "colab": {
     "base_uri": "https://localhost:8080/",
     "height": 80
    },
    "colab_type": "code",
    "id": "P4eM9iEYBEPm",
    "outputId": "095b40b0-89f5-4be5-884c-397bbbd0d85c"
   },
   "outputs": [
    {
     "name": "stderr",
     "output_type": "stream",
     "text": [
      "Using TensorFlow backend.\n"
     ]
    },
    {
     "name": "stdout",
     "output_type": "stream",
     "text": [
      "cuda\n"
     ]
    }
   ],
   "source": [
    "import numpy as np\n",
    "import torch \n",
    "import torch.nn.functional as F\n",
    "from torch import nn\n",
    "import scipy.io as io\n",
    "import matplotlib.pyplot as plt\n",
    "\n",
    "from keras.utils import to_categorical\n",
    "from torch.optim import SGD, Adam\n",
    "from torch.utils import data\n",
    "\n",
    "device = 'cuda' if torch.cuda.is_available() else 'cpu'\n",
    "print(device)"
   ]
  },
  {
   "cell_type": "code",
   "execution_count": 2,
   "metadata": {
    "colab": {},
    "colab_type": "code",
    "id": "iWD-H5xQBEPp"
   },
   "outputs": [],
   "source": [
    "\n",
    "M=4\n",
    "NN_T = 512\n",
    "NN_R=256"
   ]
  },
  {
   "cell_type": "code",
   "execution_count": 3,
   "metadata": {},
   "outputs": [],
   "source": [
    "# a = np.random.randn(1,1000000)/np.sqrt(2)\n",
    "\n",
    "# a[a>0.9*np.max(np.abs(a))] = 0.9**np.max(np.abs(a))\n",
    "\n",
    "\n",
    "# counts, bins = np.histogram(a,1000)\n",
    "# plt.hist(bins[:-1], bins, weights=counts)"
   ]
  },
  {
   "cell_type": "code",
   "execution_count": 4,
   "metadata": {
    "colab": {},
    "colab_type": "code",
    "id": "Al9ZMmg1BEPr"
   },
   "outputs": [],
   "source": [
    "class Encoder(nn.Module):\n",
    "    def __init__(self):\n",
    "        super(Encoder, self).__init__()\n",
    "        self.fc1 = nn.Linear(M**2 + 8, NN_T) \n",
    "        self.bn1 = nn.BatchNorm1d(NN_T)\n",
    "        \n",
    "        self.fc2 = nn.Linear(NN_T, NN_T)\n",
    "        self.bn2 = nn.BatchNorm1d(NN_T)\n",
    "        self.fc3 = nn.Linear(NN_T, 4)\n",
    "        \n",
    "    def forward(self, in_message, in_channel):\n",
    "        x = torch.cat([in_message,in_channel],-1)\n",
    "        x = self.bn1(F.relu(self.fc1(x)))\n",
    "        x = self.bn2(F.relu(self.fc2(x)))\n",
    "        x = self.fc3(x)\n",
    "        transmitted = x / (torch.sqrt(2*torch.mean(x**2)))\n",
    "        return transmitted\n",
    "        \n",
    "class Decoder(nn.Module):\n",
    "    def __init__(self):\n",
    "        super(Decoder, self).__init__()\n",
    "        self.de_fc1 = nn.Linear(2 + 4, NN_R)  \n",
    "        self.bn1 = nn.BatchNorm1d(NN_R)\n",
    "        \n",
    "        self.de_fc2 = nn.Linear(NN_R, NN_R)\n",
    "        self.bn2 = nn.BatchNorm1d(NN_R)\n",
    "        \n",
    "        self.de_fc3 = nn.Linear(NN_R, NN_R)\n",
    "        self.bn3 = nn.BatchNorm1d(NN_R)\n",
    "        \n",
    "        self.de_fc4 = nn.Linear(NN_R, M)\n",
    "        self.bn4 = nn.BatchNorm1d(M)\n",
    "    def forward(self, in_message, in_channel):\n",
    "        x = torch.cat([in_message,in_channel],-1)\n",
    "#         x = in_message\n",
    "        x = self.bn1(F.relu(self.de_fc1(x)))\n",
    "        x = self.bn2(F.relu(self.de_fc2(x)))\n",
    "        x = self.bn3(F.relu(self.de_fc3(x)))\n",
    "#         x = self.de_fc4(x)\n",
    "        x = self.bn4(self.de_fc4(x))\n",
    "        decoded = F.log_softmax(x, dim=-1)\n",
    "        return decoded\n",
    "        \n",
    "        \n",
    "        \n"
   ]
  },
  {
   "cell_type": "code",
   "execution_count": 5,
   "metadata": {
    "colab": {
     "base_uri": "https://localhost:8080/",
     "height": 357
    },
    "colab_type": "code",
    "id": "WnFI9COKBEPu",
    "outputId": "178fc28b-3f21-47a6-f428-672f5d618013"
   },
   "outputs": [
    {
     "name": "stdout",
     "output_type": "stream",
     "text": [
      "epoch= 0\n",
      "epoch= 1\n",
      "epoch= 2\n",
      "epoch= 3\n",
      "epoch= 4\n",
      "epoch= 5\n",
      "epoch= 6\n",
      "epoch= 7\n",
      "epoch= 8\n",
      "epoch= 9\n",
      "epoch= 10\n",
      "epoch= 11\n",
      "epoch= 12\n",
      "epoch= 13\n",
      "epoch= 14\n",
      "epoch= 15\n",
      "epoch= 16\n",
      "epoch= 17\n",
      "epoch= 18\n",
      "epoch= 19\n"
     ]
    }
   ],
   "source": [
    "\n",
    "\n",
    "encoder = Encoder().to(device)\n",
    "\n",
    "decoder1=Decoder().to(device)\n",
    "decoder2=Decoder().to(device)\n",
    "criterion= nn.NLLLoss()\n",
    "\n",
    "params = list(encoder.parameters()) + list(decoder1.parameters())+ list(decoder2.parameters())\n",
    "\n",
    "\n",
    "opt = Adam(params, lr = 0.001)\n",
    "\n",
    "loss = np.array([])\n",
    "\n",
    "batch = M * 6400000\n",
    "ch_real_set = torch.randn((batch, 2,2))/np.sqrt(2)\n",
    "\n",
    "r = 1\n",
    "\n",
    "ch_real_set[ch_real_set>r*torch.max(torch.abs(ch_real_set))] = r*torch.max(torch.abs(ch_real_set))\n",
    "ch_real_set[ch_real_set< -r*torch.max(torch.abs(ch_real_set))] = -r*torch.max(torch.abs(ch_real_set))\n",
    "\n",
    "ch_imag_set = torch.randn((batch, 2,2))/np.sqrt(2)\n",
    "ch_imag_set[ch_imag_set>0.8*torch.max(torch.abs(ch_imag_set))] = r*torch.max(torch.abs(ch_imag_set))\n",
    "ch_imag_set[ch_imag_set<-0.8*torch.max(torch.abs(ch_imag_set))] =-r*torch.max(torch.abs(ch_imag_set))\n",
    "\n",
    "\n",
    "\n",
    "\n",
    "\n",
    "# data_set = data.TensorDataset(train_data_set,ch_real_set, ch_imag_set, targets_set1, targets_set2)\n",
    "# training_generator = data.DataLoader(data_set, batch_size=1024*4, shuffle=True, num_workers=4)\n",
    "\n",
    "\n",
    "ch_set = data.TensorDataset(ch_real_set, ch_imag_set)\n",
    "training_generator= data.DataLoader(ch_set, batch_size=2048, shuffle=True, num_workers=4)\n",
    "\n",
    "\n",
    "for epochs in range(20):\n",
    "    print('epoch=', epochs)\n",
    "    for csi_real,csi_imag in training_generator:\n",
    "        csi_real = csi_real.to(device)\n",
    "        csi_imag = csi_imag.to(device)\n",
    "        csi = torch.cat([csi_real.view(-1,4), csi_imag.view(-1,4)], -1)\n",
    "        csi1 = torch.cat([csi[:,0:2], csi[:,4:6]], -1)\n",
    "        csi2 = torch.cat([csi[:,2:4], csi[:,6:8]], -1)\n",
    "        \n",
    "        label1 = np.random.randint(0,M, (csi.shape[0]))\n",
    "        label2 = np.random.randint(0,M, (csi.shape[0]))\n",
    "        \n",
    "        \n",
    "        train_data = 4*label1 + label2\n",
    "        \n",
    "        train_data = torch.from_numpy(to_categorical(train_data)).to(device)\n",
    "      \n",
    "        \n",
    "#         train_data1 = torch.from_numpy(to_categorical(label1)).to(device)\n",
    "#         train_data2 = torch.from_numpy(to_categorical(label2)).to(device)\n",
    "        \n",
    "#         train_data = torch.cat([train_data1, train_data2], axis=-1)\n",
    "#         print(train_data.shape)\n",
    "        \n",
    "        label1 = torch.from_numpy(label1).to(device)\n",
    "        label2 = torch.from_numpy(label2).to(device)\n",
    "        \n",
    "    \n",
    "       \n",
    "        transmitted =encoder(train_data, csi)\n",
    "        \n",
    "        \n",
    "        transmitted_real = transmitted[:, np.arange(0,2)]\n",
    "        transmitted_imag = transmitted[:, np.arange(2,4)]\n",
    "        \n",
    "        tx_real = transmitted_real.view(-1, 2,1)\n",
    "        tx_imag = transmitted_imag.view(-1, 2,1)\n",
    "       \n",
    "\n",
    "        rx_real = torch.bmm(csi_real, tx_real) - torch.bmm(csi_imag, tx_imag)\n",
    "        rx_imag = torch.bmm(csi_real, tx_imag) + torch.bmm(csi_imag, tx_real)\n",
    "       \n",
    "        rx1 = torch.cat([rx_real[:,0,:], rx_imag[:,0,:]], axis=-1)\n",
    "       \n",
    "        rx2 = torch.cat([rx_real[:,1,:], rx_imag[:,1,:]], axis=-1)\n",
    "      \n",
    "        \n",
    "        sigma = np.sqrt(0.5/np.power(10, 15/10))\n",
    "        rx1 = rx1 + (torch.randn(rx1.shape)*sigma).to(device)\n",
    "  \n",
    "        rx2 = rx2 + (torch.randn(rx2.shape)*sigma).to(device)\n",
    "    \n",
    "#         y_pred1 = decoder1(rx1)\n",
    "#         y_pred2 = decoder2(rx2)\n",
    "       \n",
    "        \n",
    "        y_pred1 = decoder1(rx1, csi1)\n",
    "        y_pred2 = decoder2(rx2, csi2)\n",
    "       \n",
    "        \n",
    "        cross_entropy = criterion(y_pred1, label1) + criterion(y_pred2, label2)\n",
    "    \n",
    "\n",
    "        opt.zero_grad()\n",
    "        \n",
    "        \n",
    "        cross_entropy.backward()\n",
    "        opt.step()\n",
    "        \n",
    "\n",
    "    l = cross_entropy.item()\n",
    "    loss = np.append(loss, l)\n",
    "    "
   ]
  },
  {
   "cell_type": "code",
   "execution_count": 14,
   "metadata": {},
   "outputs": [
    {
     "name": "stdout",
     "output_type": "stream",
     "text": [
      "[0.07065833 0.04209033 0.02964421 0.03675348 0.03590487 0.02706455\n",
      " 0.02460732 0.02895533 0.02652942 0.02775077 0.02977785 0.02749916\n",
      " 0.02979133 0.02242447 0.01871136 0.022842   0.02971677 0.02128352\n",
      " 0.03118827 0.01760677]\n"
     ]
    }
   ],
   "source": [
    "print(loss)"
   ]
  },
  {
   "cell_type": "code",
   "execution_count": 13,
   "metadata": {
    "colab": {
     "base_uri": "https://localhost:8080/"
    },
    "colab_type": "code",
    "id": "yI9_517iBEPw",
    "outputId": "f86a9277-671b-4e1f-8505-0d5ed86d2b04"
   },
   "outputs": [
    {
     "name": "stdout",
     "output_type": "stream",
     "text": [
      "[ 2048  4096  6144  8192 10240 12288 14336 16384 18432 20480]\n",
      "(2,)\n"
     ]
    },
    {
     "data": {
      "image/png": "[encoded data removed]",
      "text/plain": [
       "<Figure size 432x288 with 1 Axes>"
      ]
     },
     "metadata": {
      "needs_background": "light"
     },
     "output_type": "display_data"
    }
   ],
   "source": [
    "from scipy.ndimage.filters import gaussian_filter1d\n",
    "from scipy.optimize import curve_fit\n",
    "from scipy.signal import savgol_filter \n",
    "import tikzplotlib\n",
    "\n",
    "\n",
    "qqq = loss\n",
    "# ysmoothed = gaussian_filter1d(qqq, sigma=0.1)\n",
    "\n",
    "\n",
    "# plt.figure()\n",
    "# plt.loglog(loss)\n",
    "\n",
    "# aaa = savgol_filter(qqq,,1)\n",
    "\n",
    "\n",
    "\n",
    "\n",
    "\n",
    "\n",
    "\n",
    "\n",
    "# x = np.arange(aaa.shape[0])\n",
    "# data = np.concatenate([x.reshape(-1,1), aaa.reshape(-1,1)], -1)\n",
    "# np.savetxt('open_loss.txt', data[::100,:])\n",
    "\n",
    "x = np.arange(1,qqq.shape[0]+1)*2048\n",
    "print(x[0:10])\n",
    "# plt.loglog(x,aaa)\n",
    "\n",
    "\n",
    "data = np.concatenate([x.reshape(-1,1), aaa.reshape(-1,1)], -1)\n",
    "plt.loglog(data[::10,0],data[::10,1]/2)\n",
    "\n",
    "print(data[::10,0].shape)\n",
    "\n",
    "\n",
    "\n",
    "np.savetxt('mu_mimo_loss.txt', data[::100,:])\n",
    "\n"
   ]
  },
  {
   "cell_type": "code",
   "execution_count": 8,
   "metadata": {
    "colab": {},
    "colab_type": "code",
    "id": "frohmjvYBEPz"
   },
   "outputs": [],
   "source": [
    "torch.cuda.empty_cache()\n",
    "SER =np.array([])\n",
    "num_iter=1\n",
    "with torch.no_grad():\n",
    "    for snr in np.arange(0, 24,1):\n",
    "        batch = M * 16*1000\n",
    "        \n",
    "        ch_real = ((torch.randn((batch, 2,2))/np.sqrt(2))).to(device)\n",
    "        ch_imag = ((torch.randn((batch, 2,2))/np.sqrt(2))).to(device)\n",
    "        r = 0.8\n",
    "        ch_real[ch_real>r*torch.max(torch.abs(ch_real))] = r*torch.max(torch.abs(ch_real))\n",
    "        ch_real[ch_real<-r*torch.max(torch.abs(ch_real))] = -r*torch.max(torch.abs(ch_real))\n",
    "        ch_imag[ch_imag>r*torch.max(torch.abs(ch_imag))] = r*torch.max(torch.abs(ch_imag))\n",
    "        ch_imag[ch_imag<-r*torch.max(torch.abs(ch_imag))] = -r*torch.max(torch.abs(ch_imag))\n",
    "            \n",
    "        total_corr = 0\n",
    "        for i in range(num_iter):\n",
    "            test_messages = np.arange(M)\n",
    "            test_messages = np.tile(test_messages, int(batch/M))\n",
    "\n",
    "            test_mess1 = np.random.permutation(test_messages)\n",
    "            test_mess2 = np.random.permutation(test_messages)\n",
    "\n",
    "            train_data1 = to_categorical(test_mess1)\n",
    "            train_data2 = to_categorical(test_mess2)\n",
    "\n",
    "            csi = torch.cat([ch_real.view(-1,4), ch_imag.view(-1,4)], -1).to(device)\n",
    "            csi1 = torch.cat([csi[:,0:2], csi[:,4:6]], -1).to(device)\n",
    "            csi2 = torch.cat([csi[:,2:4], csi[:,6:8]], -1).to(device)\n",
    "\n",
    "\n",
    "            test_data = 4*test_mess1 + test_mess2\n",
    "            test_data_set = torch.from_numpy(to_categorical(test_data)).to(device)\n",
    "\n",
    "\n",
    "\n",
    "\n",
    "            transmitted =encoder(test_data_set, csi)\n",
    "\n",
    "            transmitted_real = transmitted[:, np.arange(0,2)]\n",
    "            transmitted_imag = transmitted[:, np.arange(2,4)]\n",
    "\n",
    "            tx_real = transmitted_real.view(-1, 2,1)\n",
    "            tx_imag = transmitted_imag.view(-1, 2,1)\n",
    "\n",
    "            rx_real = torch.bmm(ch_real, tx_real) - torch.bmm(ch_imag, tx_imag)\n",
    "            rx_imag = torch.bmm(ch_real, tx_imag) + torch.bmm(ch_imag, tx_real)\n",
    "\n",
    "            rx1 = torch.cat([rx_real[:,0,:], rx_imag[:,0,:]], axis=-1)\n",
    "            rx2 = torch.cat([rx_real[:,1,:], rx_imag[:,1,:]], axis=-1)\n",
    "\n",
    "            sigma = np.sqrt(0.5/np.power(10, snr/10))\n",
    "            rx1 = rx1 + (torch.randn(rx1.shape)*sigma).to(device)\n",
    "            rx2 = rx2 + (torch.randn(rx2.shape)*sigma).to(device)\n",
    "\n",
    "            y_pred1 = decoder1(rx1, csi1)\n",
    "            y_pred2 = decoder2(rx2, csi2)\n",
    "\n",
    "\n",
    "            classification1 = torch.argmax(y_pred1, axis=-1).to('cpu').detach().numpy()\n",
    "            classification2 = torch.argmax(y_pred2, axis=-1).to('cpu').detach().numpy()\n",
    "\n",
    "            correct1 = np.equal(classification1 , test_mess1)\n",
    "            correct2 = np.equal(classification2 , test_mess2)\n",
    "            correct = sum(correct1) + sum(correct2)\n",
    "          \n",
    "            total_corr = total_corr + correct\n",
    "        ser =1 - total_corr / (batch*2*num_iter)\n",
    "\n",
    "        SER = np.append(SER, ser)\n"
   ]
  },
  {
   "cell_type": "code",
   "execution_count": 9,
   "metadata": {
    "colab": {},
    "colab_type": "code",
    "id": "s8BtpL0ZBEP1"
   },
   "outputs": [],
   "source": [
    "ser_theory = io.loadmat('baseline/zero_forcing_SER.mat')\n",
    "base_line = ser_theory['SER'] \n",
    "\n",
    "np.savez('CSIT-partial-CSIR-SER.npz', SER = SER)"
   ]
  },
  {
   "cell_type": "code",
   "execution_count": 10,
   "metadata": {
    "colab": {
     "base_uri": "https://localhost:8080/",
     "height": 279
    },
    "colab_type": "code",
    "id": "LmgYf3kUBEP3",
    "outputId": "56e52534-b153-4d4e-dd34-7bfd9bae7c03"
   },
   "outputs": [
    {
     "data": {
      "image/png": "[encoded data removed]",
      "text/plain": [
       "<Figure size 1152x648 with 1 Axes>"
      ]
     },
     "metadata": {
      "needs_background": "light"
     },
     "output_type": "display_data"
    }
   ],
   "source": [
    "plt.figure(figsize=(16,9))\n",
    "p1,p2 = plt.semilogy(np.arange(0, 24,1), SER, np.arange(0,27,2), base_line[0,0:14])\n",
    "plt.xlabel('SNR')\n",
    "plt.ylabel('SER')\n",
    "plt.legend([p1,p2],['MU-MIMO','Zero-forcing-transmitter'])\n",
    "plt.grid()\n",
    "\n",
    "import tikzplotlib as tikz\n",
    "tikz.save('ser_vd.tex')"
   ]
  },
  {
   "cell_type": "code",
   "execution_count": 11,
   "metadata": {},
   "outputs": [
    {
     "name": "stdout",
     "output_type": "stream",
     "text": [
      "[0.40660938 0.36571094 0.32238281 0.28098437 0.23639844 0.19475781\n",
      " 0.15789062 0.12135938 0.09028125 0.06445312 0.04334375 0.0280625\n",
      " 0.01714063 0.01069531 0.00621094 0.00348437 0.00185156 0.00142969\n",
      " 0.00097656 0.00086719 0.00082812 0.00059375 0.00051563 0.0005    ]\n"
     ]
    }
   ],
   "source": [
    "print(SER)"
   ]
  },
  {
   "cell_type": "code",
   "execution_count": 12,
   "metadata": {},
   "outputs": [
    {
     "ename": "RuntimeError",
     "evalue": "matplotlib2tikz has been renamed to tikzplotlib <https://pypi.org/project/tikzplotlib>",
     "output_type": "error",
     "traceback": [
      "\u001b[0;31m---------------------------------------------------------------------------\u001b[0m",
      "\u001b[0;31mRuntimeError\u001b[0m                              Traceback (most recent call last)",
      "\u001b[0;32m<ipython-input-12-f855bd87e899>\u001b[0m in \u001b[0;36m<module>\u001b[0;34m\u001b[0m\n\u001b[1;32m      5\u001b[0m \u001b[0mplt\u001b[0m\u001b[0;34m.\u001b[0m\u001b[0mscatter\u001b[0m\u001b[0;34m(\u001b[0m\u001b[0mtx\u001b[0m\u001b[0;34m[\u001b[0m\u001b[0;34m:\u001b[0m\u001b[0;34m,\u001b[0m\u001b[0;36m1\u001b[0m\u001b[0;34m]\u001b[0m\u001b[0;34m,\u001b[0m \u001b[0mtx\u001b[0m\u001b[0;34m[\u001b[0m\u001b[0;34m:\u001b[0m\u001b[0;34m,\u001b[0m\u001b[0;36m3\u001b[0m\u001b[0;34m]\u001b[0m\u001b[0;34m,\u001b[0m\u001b[0ms\u001b[0m\u001b[0;34m=\u001b[0m\u001b[0;36m1\u001b[0m\u001b[0;34m)\u001b[0m\u001b[0;34m\u001b[0m\u001b[0;34m\u001b[0m\u001b[0m\n\u001b[1;32m      6\u001b[0m \u001b[0;34m\u001b[0m\u001b[0m\n\u001b[0;32m----> 7\u001b[0;31m \u001b[0;32mimport\u001b[0m \u001b[0mmatplotlib2tikz\u001b[0m\u001b[0;34m\u001b[0m\u001b[0;34m\u001b[0m\u001b[0m\n\u001b[0m\u001b[1;32m      8\u001b[0m \u001b[0;34m\u001b[0m\u001b[0m\n\u001b[1;32m      9\u001b[0m \u001b[0mmatplotlib2tikz\u001b[0m\u001b[0;34m.\u001b[0m\u001b[0msave\u001b[0m\u001b[0;34m(\u001b[0m\u001b[0;34m\"test.tex\"\u001b[0m\u001b[0;34m)\u001b[0m\u001b[0;34m\u001b[0m\u001b[0;34m\u001b[0m\u001b[0m\n",
      "\u001b[0;32m~/miniconda3/envs/deeplearning/lib/python3.7/site-packages/matplotlib2tikz/__init__.py\u001b[0m in \u001b[0;36m<module>\u001b[0;34m\u001b[0m\n\u001b[1;32m     27\u001b[0m ]\n\u001b[1;32m     28\u001b[0m \u001b[0;34m\u001b[0m\u001b[0m\n\u001b[0;32m---> 29\u001b[0;31m \u001b[0;32mraise\u001b[0m \u001b[0mRuntimeError\u001b[0m\u001b[0;34m(\u001b[0m\u001b[0;34m\"matplotlib2tikz has been renamed to tikzplotlib <https://pypi.org/project/tikzplotlib>\"\u001b[0m\u001b[0;34m)\u001b[0m\u001b[0;34m\u001b[0m\u001b[0;34m\u001b[0m\u001b[0m\n\u001b[0m\u001b[1;32m     30\u001b[0m \u001b[0;34m\u001b[0m\u001b[0m\n\u001b[1;32m     31\u001b[0m \u001b[0;32mtry\u001b[0m\u001b[0;34m:\u001b[0m\u001b[0;34m\u001b[0m\u001b[0;34m\u001b[0m\u001b[0m\n",
      "\u001b[0;31mRuntimeError\u001b[0m: matplotlib2tikz has been renamed to tikzplotlib <https://pypi.org/project/tikzplotlib>"
     ]
    },
    {
     "data": {
      "image/png": "[encoded data removed]",
      "text/plain": [
       "<Figure size 432x288 with 1 Axes>"
      ]
     },
     "metadata": {
      "needs_background": "light"
     },
     "output_type": "display_data"
    },
    {
     "data": {
      "image/png": "[encoded data removed]",
      "text/plain": [
       "<Figure size 432x288 with 1 Axes>"
      ]
     },
     "metadata": {
      "needs_background": "light"
     },
     "output_type": "display_data"
    }
   ],
   "source": [
    "tx = transmitted[1:1000, :].to('cpu')\n",
    "plt.figure()\n",
    "plt.scatter(tx[:,0], tx[:,1],s=1)\n",
    "plt.figure()\n",
    "plt.scatter(tx[:,1], tx[:,3],s=1)\n",
    "\n",
    "import matplotlib2tikz\n",
    "\n",
    "matplotlib2tikz.save(\"test.tex\")"
   ]
  },
  {
   "cell_type": "code",
   "execution_count": null,
   "metadata": {},
   "outputs": [],
   "source": [
    "\n",
    "# torch.save({\n",
    "#             'encoder': encoder.state_dict(),\n",
    "#             'decoder1': decoder1.state_dict(),\n",
    "#             'decoder2': decoder2.state_dict(), \n",
    "#             }, 'Autoencoder-MU-MIMO')\n",
    "\n",
    "# encoder = Encoder().to(device)\n",
    "# decoder = Decoder().to(device)\n",
    "# tx_opt = Adam(encoder.parameters(), lr = 0.001)\n",
    "# rx_opt = Adam(decoder.parameters(), lr = 0.008)\n",
    "\n",
    "# checkpoint = torch.load('Autoencoder-MU-MIMO')\n",
    "# encoder.load_state_dict(checkpoint['encoder'])\n",
    "# decoder.load_state_dict(checkpoint['decoder1'])\n",
    "# decoder.load_state_dict(checkpoint['decoder2'])\n",
    "\n",
    "\n"
   ]
  }
 ],
 "metadata": {
  "accelerator": "GPU",
  "colab": {
   "collapsed_sections": [],
   "name": "MU-MIMO_Pytorch_CSIT.ipynb",
   "provenance": []
  },
  "kernelspec": {
   "display_name": "Python 3",
   "language": "python",
   "name": "python3"
  },
  "language_info": {
   "codemirror_mode": {
    "name": "ipython",
    "version": 3
   },
   "file_extension": ".py",
   "mimetype": "text/x-python",
   "name": "python",
   "nbconvert_exporter": "python",
   "pygments_lexer": "ipython3",
   "version": "3.7.6"
  },
  "toc": {
   "base_numbering": 1,
   "nav_menu": {},
   "number_sections": true,
   "sideBar": true,
   "skip_h1_title": false,
   "title_cell": "Table of Contents",
   "title_sidebar": "Contents",
   "toc_cell": true,
   "toc_position": {},
   "toc_section_display": true,
   "toc_window_display": false
  }
 },
 "nbformat": 4,
 "nbformat_minor": 1
}
