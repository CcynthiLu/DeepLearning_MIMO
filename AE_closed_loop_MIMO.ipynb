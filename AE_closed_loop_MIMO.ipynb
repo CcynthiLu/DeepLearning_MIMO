{
  "nbformat": 4,
  "nbformat_minor": 0,
  "metadata": {
    "kernelspec": {
      "name": "python3",
      "display_name": "Python 3"
    },
    "language_info": {
      "codemirror_mode": {
        "name": "ipython",
        "version": 3
      },
      "file_extension": ".py",
      "mimetype": "text/x-python",
      "name": "python",
      "nbconvert_exporter": "python",
      "pygments_lexer": "ipython3",
      "version": "3.7.4"
    },
    "colab": {
      "name": " SVD_AlternativeLearning_copy3.ipynb",
      "provenance": [],
      "collapsed_sections": [],
      "machine_shape": "hm"
    },
    "accelerator": "GPU"
  },
  "cells": [
    {
      "cell_type": "code",
      "metadata": {
        "id": "gk_D0EK3xW1c",
        "colab_type": "code",
        "outputId": "f21587ac-d2a2-4ac7-ec65-e6cbab7c5957",
        "colab": {
          "base_uri": "https://localhost:8080/",
          "height": 35
        }
      },
      "source": [
        "import warnings\n",
        "warnings.filterwarnings('ignore')\n",
        "\n",
        "import numpy as np\n",
        "import tensorflow as tf\n",
        "import keras\n",
        "from keras.layers import Input, Dense, GaussianNoise,Lambda,Dropout, Concatenate, Add\n",
        "from keras  import layers\n",
        "from keras.models import Model\n",
        "from keras import regularizers \n",
        "from keras.layers.normalization import BatchNormalization\n",
        "from keras.optimizers import Adam,SGD\n",
        "from keras import backend as K\n",
        "from keras.utils import to_categorical\n",
        "import matplotlib.pyplot as plt\n",
        "import pandas as pd\n",
        "\n",
        "import scipy.io as io"
      ],
      "execution_count": 0,
      "outputs": [
        {
          "output_type": "stream",
          "text": [
            "Using TensorFlow backend.\n"
          ],
          "name": "stderr"
        }
      ]
    },
    {
      "cell_type": "code",
      "metadata": {
        "id": "M_xKwSEhxoE0",
        "colab_type": "code",
        "colab": {}
      },
      "source": [
        "# from tensorflow.python.client import device_lib\n",
        "# from keras import backend as K\n",
        "# K.tensorflow_backend._get_available_gpus()\n"
      ],
      "execution_count": 0,
      "outputs": []
    },
    {
      "cell_type": "code",
      "metadata": {
        "id": "om_dpmqWxW1p",
        "colab_type": "code",
        "colab": {}
      },
      "source": [
        "M=16\n",
        "\n",
        "Tx=2\n",
        "Rx=2\n",
        "\n",
        "Tx_NN=256\n",
        "Rx_NN=2048\n"
      ],
      "execution_count": 0,
      "outputs": []
    },
    {
      "cell_type": "code",
      "metadata": {
        "id": "rnG52zUvJi9L",
        "colab_type": "code",
        "outputId": "fa42e108-8ef2-44e5-c489-a7ad6459b08c",
        "colab": {
          "base_uri": "https://localhost:8080/",
          "height": 35
        }
      },
      "source": [
        "np.arange(0,20,3)"
      ],
      "execution_count": 0,
      "outputs": [
        {
          "output_type": "execute_result",
          "data": {
            "text/plain": [
              "array([ 0,  3,  6,  9, 12, 15, 18])"
            ]
          },
          "metadata": {
            "tags": []
          },
          "execution_count": 4
        }
      ]
    },
    {
      "cell_type": "code",
      "metadata": {
        "id": "qBs--jbFxW2L",
        "colab_type": "code",
        "colab": {}
      },
      "source": [
        "#Build encoder\n",
        "\n",
        "M_input=Input(shape=(M,), name='M')\n",
        "V_input = Input(shape=(8,), name='V')\n",
        "Ch_input =Input(shape=(8,), name='CH')\n",
        "Sigma = Input(shape=(1,), name='SIGMA')\n",
        "U_input = Input(shape=(8,), name='U')\n",
        "\n",
        "Tx_input = keras.layers.Concatenate(axis=-1, name='sig2Tx')([M_input, V_input])\n",
        "\n",
        "layer = Dense(units =Tx_NN, activation='relu')(Tx_input)\n",
        "layer = Dense(units =Tx_NN, activation='relu')(layer)\n",
        "\n",
        "Tx_output = Dense(units =2*Tx, activation='linear')(layer)\n",
        "Tx_output =  Lambda(lambda x: x / K.sqrt(2*K.mean(K.square(x))), name='Power_Constrain')(Tx_output)\n",
        "\n",
        "to_mimo = keras.layers.Concatenate(axis=-1, name='sig2Channel')([Tx_output, Ch_input, Sigma])\n",
        "\n",
        "\n",
        "def mimo_channel(in_know):    \n",
        "    sig = in_know[:, 0:4]\n",
        "    ch = in_know[:, 4:12]\n",
        "    sigma = in_know[0, 12]\n",
        "    \n",
        "    sig_real = tf.reshape(sig[:, 0:2], (-1, 2,1))\n",
        "    sig_imag = tf.reshape(sig[:, 2:4], (-1, 2,1))\n",
        "    \n",
        "    ch_real = tf.reshape(ch[:, 0:4], (-1,2,2))\n",
        "    ch_imag = tf.reshape(ch[:, 4:8], (-1,2,2))\n",
        "    \n",
        "    rx_real = tf.matmul(ch_real, sig_real) - tf.matmul(ch_imag, sig_imag) \n",
        "    rx_imag = tf.matmul(ch_real, sig_imag) + tf.matmul(ch_imag, sig_real)\n",
        "    rx = tf.reshape(tf.concat([rx_real, rx_imag], axis=1), (-1, 4))\n",
        "    rx = rx + tf.random.normal(mean=0, stddev=sigma, shape=tf.shape(rx))\n",
        "    return rx\n",
        "Rx= Lambda(mimo_channel, name='Channel_Layer')(to_mimo)\n",
        "\n",
        "\n",
        "# Build Decoder\n",
        "\n",
        "# Rx_input = keras.layers.Concatenate(axis=-1, name='sig2Rx')([Rx, U_input])\n",
        "# layer = Dense(units=Rx_NN, activation='relu')(Rx_input)\n",
        "layer = Dense(units=Rx_NN, activation='relu')(Rx)\n",
        "layer = Dense(units=Rx_NN, activation='relu')(layer)\n",
        "layer = Dense(units=Rx_NN, activation='relu')(layer)\n",
        "Rx_output = Dense(units=M, activation='softmax')(layer)\n",
        "\n",
        "auto_encoder = Model(inputs=[M_input, Ch_input, U_input,Sigma, V_input], outputs= Rx_output)\n",
        "\n",
        "opt = Adam(lr=0.001)\n",
        "auto_encoder.compile(optimizer=opt, loss='categorical_crossentropy')\n"
      ],
      "execution_count": 0,
      "outputs": []
    },
    {
      "cell_type": "code",
      "metadata": {
        "id": "eiik1gJ37rHi",
        "colab_type": "code",
        "outputId": "9df0bf5f-a3ed-4f42-cc05-71f6a0bc3750",
        "colab": {
          "base_uri": "https://localhost:8080/",
          "height": 537
        }
      },
      "source": [
        "M_input3=Input(shape=(M,), name='M')\n",
        "Ch_input3 =Input(shape=(8,), name='CH')\n",
        "Sigma3 = Input(shape=(1,), name='SIGMA')\n",
        "\n",
        "Tx_input3 = keras.layers.Concatenate(axis=-1, name='sig2Tx')([M_input3, Ch_input3])\n",
        "\n",
        "layer3 = Dense(units =Tx_NN, activation='relu')(Tx_input3)\n",
        "layer3 = Dense(units =Tx_NN, activation='relu')(layer3)\n",
        "\n",
        "Tx_output3 = Dense(units =2*Tx, activation='linear')(layer3)\n",
        "Tx_output3 =  Lambda(lambda x: x / K.sqrt(2*K.mean(K.square(x))), name='Power_Constrain')(Tx_output3)\n",
        "\n",
        "to_mimo3 = keras.layers.Concatenate(axis=-1, name='sig2Channel')([Tx_output3, Ch_input3, Sigma3])\n",
        "\n",
        "\n",
        "Rx3= Lambda(mimo_channel, name='Channel_Layer')(to_mimo3)\n",
        "\n",
        "\n",
        "# Build Decoder\n",
        "\n",
        "Rx_input3 = keras.layers.Concatenate(axis=-1, name='sig2Rx')([Rx3, Ch_input3])\n",
        "Rx_input3 = BatchNormalization()(Rx_input3)\n",
        "# Rx_input3 = BatchNormalization()(Rx3)\n",
        "layer3 = Dense(units=Rx_NN, activation='relu')(Rx_input3)\n",
        "layer3 = BatchNormalization()(layer3)\n",
        "layer3 = Dense(units=Rx_NN, activation='relu')(layer3)\n",
        "layer3 = BatchNormalization()(layer3)\n",
        "layer3 = Dense(units=Rx_NN, activation='relu')(layer3)\n",
        "layer3 = BatchNormalization()(layer3)\n",
        "layer3 = Dense(units=Rx_NN, activation='relu')(layer3)\n",
        "layer3 = BatchNormalization()(layer3)\n",
        "Rx_output3 = Dense(units=M, activation='softmax')(layer3)\n",
        "\n",
        "auto_encoder3 = Model(inputs=[M_input3, Ch_input3, Sigma3], outputs= Rx_output3)\n",
        "\n",
        "opt3 = Adam(lr=0.001)\n",
        "#configures the model for training\n",
        "auto_encoder3.compile(optimizer=opt3, loss='categorical_crossentropy')\n",
        "\n",
        "\n",
        "batch=6400 * 400\n",
        "\n",
        "train_messages = np.arange(M)\n",
        "train_messages = np.tile(train_messages, batch)\n",
        "train_labels = to_categorical(train_messages)\n",
        "\n",
        "channel = (np.random.normal(size=[batch * 16, 2, 2]) + 1j*np.random.normal(size=[batch * 16, 2, 2]))/np.sqrt(2)\n",
        "ch = np.reshape(channel, (-1, 4))\n",
        "ch = np.concatenate([ch.real, ch.imag], axis=-1)\n",
        "\n",
        "T_SNR = 15\n",
        "snr_linear = np.power(10, T_SNR/10)\n",
        "sigma_train = np.sqrt(0.5/snr_linear)\n",
        "sigma_train = sigma_train * np.ones((ch.shape[0],1))\n",
        "\n",
        "history = auto_encoder3.fit(x=[train_labels, ch,sigma_train], y=train_labels, batch_size=2048, verbose=1, epochs=15)\n",
        "\n",
        "\n",
        "\n",
        "\n",
        "\n",
        "\n",
        "\n",
        "\n"
      ],
      "execution_count": 0,
      "outputs": [
        {
          "output_type": "stream",
          "text": [
            "Epoch 1/15\n",
            "40960000/40960000 [==============================] - 751s 18us/step - loss: 0.0152\n",
            "Epoch 2/15\n",
            "40960000/40960000 [==============================] - 749s 18us/step - loss: 0.0033\n",
            "Epoch 3/15\n",
            "40960000/40960000 [==============================] - 751s 18us/step - loss: 0.0026\n",
            "Epoch 4/15\n",
            "40960000/40960000 [==============================] - 750s 18us/step - loss: 0.0022\n",
            "Epoch 5/15\n",
            "40960000/40960000 [==============================] - 752s 18us/step - loss: 0.0021\n",
            "Epoch 6/15\n",
            "40960000/40960000 [==============================] - 750s 18us/step - loss: 0.0019\n",
            "Epoch 7/15\n",
            "40960000/40960000 [==============================] - 745s 18us/step - loss: 0.0018\n",
            "Epoch 8/15\n",
            "40960000/40960000 [==============================] - 743s 18us/step - loss: 0.0018\n",
            "Epoch 9/15\n",
            "40960000/40960000 [==============================] - 739s 18us/step - loss: 0.0017\n",
            "Epoch 10/15\n",
            "40960000/40960000 [==============================] - 739s 18us/step - loss: 0.0017\n",
            "Epoch 11/15\n",
            "40960000/40960000 [==============================] - 740s 18us/step - loss: 0.0016\n",
            "Epoch 12/15\n",
            "40960000/40960000 [==============================] - 742s 18us/step - loss: 0.0016\n",
            "Epoch 13/15\n",
            "40960000/40960000 [==============================] - 746s 18us/step - loss: 0.0016\n",
            "Epoch 14/15\n",
            "40960000/40960000 [==============================] - 746s 18us/step - loss: 0.0015\n",
            "Epoch 15/15\n",
            "40960000/40960000 [==============================] - 744s 18us/step - loss: 0.0015\n"
          ],
          "name": "stdout"
        }
      ]
    },
    {
      "cell_type": "code",
      "metadata": {
        "id": "e_h3sfqdZQgq",
        "colab_type": "code",
        "outputId": "009ed7a1-67f9-49b4-86d1-57c27857604c",
        "colab": {
          "base_uri": "https://localhost:8080/",
          "height": 295
        }
      },
      "source": [
        "plt.semilogy(history.history['loss'], label='MAE (testing data)')\n",
        "\n",
        "plt.title('MAE for Chennai Reservoir Levels')\n",
        "plt.ylabel('MAE value')\n",
        "plt.xlabel('No. epoch')\n",
        "plt.legend(loc=\"upper left\")\n",
        "plt.show()"
      ],
      "execution_count": 0,
      "outputs": [
        {
          "output_type": "display_data",
          "data": {
            "image/png": "[encoded data removed]",
            "text/plain": [
              "<Figure size 432x288 with 1 Axes>"
            ]
          },
          "metadata": {
            "tags": [],
            "needs_background": "light"
          }
        }
      ]
    },
    {
      "cell_type": "code",
      "metadata": {
        "id": "i3RwsYTE0vYu",
        "colab_type": "code",
        "colab": {}
      },
      "source": [
        "auto_encoder3.save('path_to_my_model.h5')"
      ],
      "execution_count": 0,
      "outputs": []
    },
    {
      "cell_type": "code",
      "metadata": {
        "id": "u1knO1cA1Do7",
        "colab_type": "code",
        "colab": {}
      },
      "source": [
        "# new_model = keras.models.load_model('path_to_my_model.h5')"
      ],
      "execution_count": 0,
      "outputs": []
    },
    {
      "cell_type": "code",
      "metadata": {
        "id": "th1dy_ovi00D",
        "colab_type": "code",
        "colab": {}
      },
      "source": [
        "# SNR_array = np.arange(0, 22)\n",
        "# SER3 = []\n",
        "# for snr in SNR_array:\n",
        "#     snr_linear = np.power(10, snr/10)\n",
        "#     sigma_train = np.sqrt(0.5/snr_linear)\n",
        "\n",
        "#     batch=6400\n",
        "#     train_messages = np.arange(M)\n",
        "#     train_messages = np.tile(train_messages, batch)\n",
        "#     train_labels = to_categorical(train_messages)\n",
        "\n",
        "#     channel = (np.random.normal(size=[batch * 16, 2, 2]) + 1j*np.random.normal(size=[batch * 16, 2, 2]))/np.sqrt(2)\n",
        "#     ch = np.reshape(channel, (-1, 4))\n",
        "#     ch = np.concatenate([ch.real, ch.imag], axis=-1)\n",
        "\n",
        "    \n",
        "#     sigma_train = sigma_train * np.ones((ch.shape[0],1))\n",
        "\n",
        "#     prob_distribution = auto_encoder3.predict(x=[train_labels, ch, sigma_train], batch_size=1024*10)\n",
        "   \n",
        "#     classification = np.argmax(prob_distribution, axis=1)\n",
        "#     correct = np.equal(classification , train_messages)\n",
        "#     ser = 1- np.mean(correct)\n",
        "#     SER3 = np.append(SER3, ser)"
      ],
      "execution_count": 0,
      "outputs": []
    },
    {
      "cell_type": "code",
      "metadata": {
        "id": "WInqVl_qkLIy",
        "colab_type": "code",
        "colab": {}
      },
      "source": [
        "SNR_array = np.arange(0, 25,2)\n",
        "SER3 = []\n",
        "for snr in SNR_array:\n",
        "    ser_flag = 0\n",
        "    for temp in np.arange(20):\n",
        "        ser = 0\n",
        "        snr_linear = np.power(10, snr/10)\n",
        "        sigma_train = np.sqrt(0.5/snr_linear)\n",
        "        frames = 15\n",
        "        batch=64000\n",
        "        train_messages = np.arange(M)\n",
        "        train_messages = np.tile(train_messages, batch)\n",
        "        train_labels = to_categorical(train_messages)\n",
        "\n",
        "        channel = (np.random.normal(size=[frames * 16, 2, 2]) + 1j*np.random.normal(size=[frames * 16, 2, 2]))/np.sqrt(2)\n",
        "        channel = np.tile(channel, (batch,1,1))\n",
        "        ch = np.reshape(channel, (-1, 4))\n",
        "        ch = np.concatenate([ch.real, ch.imag], axis=-1)\n",
        "\n",
        "        \n",
        "        sigma_train = sigma_train * np.ones((ch.shape[0],1))\n",
        "\n",
        "        prob_distribution = auto_encoder3.predict(x=[train_labels, ch, sigma_train], batch_size=1024*10)\n",
        "      \n",
        "        classification = np.argmax(prob_distribution, axis=1)\n",
        "        correct = np.equal(classification , train_messages)\n",
        "        ser = 1- np.mean(correct)\n",
        "        ser_flag = ser_flag + ser\n",
        "        \n",
        "    SER3 = np.append(SER3, ser_flag/20)\n",
        "    # print(SER3)"
      ],
      "execution_count": 0,
      "outputs": []
    },
    {
      "cell_type": "code",
      "metadata": {
        "id": "EKiGeFjK5_Jn",
        "colab_type": "code",
        "outputId": "164a96b9-c032-4167-d04f-5d51a82a85d0",
        "colab": {
          "base_uri": "https://localhost:8080/",
          "height": 354
        }
      },
      "source": [
        "print(SER3)\n",
        "plt.figure()\n",
        "SNR = np.arange(0, 22)\n",
        "\n",
        "base_line = np.array([0.51663, 0.47059, 0.42939 ,0.3782,  0.34221, 0.30084 ,0.26423, 0.22573 ,0.1949,\n",
        " 0.16623, 0.14124, 0.1161 , 0.09486 ,0.07995, 0.06518 ,0.05308, 0.04256, 0.03233,\n",
        " 0.02639 ,0.02132, 0.0185 , 0.01276])\n",
        "csitr, base = plt.semilogy(SNR_array, SER3, SNR, base_line)\n",
        "plt.grid(True)\n",
        "plt.legend([ csitr, base], ['simulation_with_csitr', 'Base_line'])"
      ],
      "execution_count": 0,
      "outputs": [
        {
          "output_type": "stream",
          "text": [
            "[6.29755420e-01 5.19213770e-01 3.82001270e-01 2.36681250e-01\n",
            " 1.28499121e-01 4.73665039e-02 1.48571777e-02 3.05795898e-03\n",
            " 2.15478516e-04 1.93847656e-05 4.88281250e-08 0.00000000e+00\n",
            " 0.00000000e+00]\n"
          ],
          "name": "stdout"
        },
        {
          "output_type": "execute_result",
          "data": {
            "text/plain": [
              "<matplotlib.legend.Legend at 0x7fcb260e16d8>"
            ]
          },
          "metadata": {
            "tags": []
          },
          "execution_count": 12
        },
        {
          "output_type": "display_data",
          "data": {
            "image/png": "[encoded data removed]",
            "text/plain": [
              "<Figure size 432x288 with 1 Axes>"
            ]
          },
          "metadata": {
            "tags": [],
            "needs_background": "light"
          }
        }
      ]
    },
    {
      "cell_type": "code",
      "metadata": {
        "id": "pygnGD6jtohB",
        "colab_type": "code",
        "outputId": "a5de13af-e635-4bed-cb6d-7ea7a9edde12",
        "colab": {
          "base_uri": "https://localhost:8080/",
          "height": 551
        }
      },
      "source": [
        "from google.colab import files\n",
        "plt.figure(figsize=(12,9))\n",
        "SNR = np.arange(0, 22)\n",
        "\n",
        "base_line = np.array([0.51663, 0.47059, 0.42939 ,0.3782,  0.34221, 0.30084 ,0.26423, 0.22573 ,0.1949,\n",
        " 0.16623, 0.14124, 0.1161 , 0.09486 ,0.07995, 0.06518 ,0.05308, 0.04256, 0.03233,\n",
        " 0.02639 ,0.02132, 0.0185 , 0.01276])\n",
        "\n",
        "SNR2 = np.array([0 ,  0.457574905606751,   0.969100130080564 ,  1.549019599857432,   2.218487496163564,\n",
        "   3.010299956639812,   3.979400086720376,   5.228787452803376  , 6.989700043360188  ,10.000000000000000,\n",
        "  10.969100130080564 , 12.218487496163563 , 13.979400086720377,  15.228787452803376 , 16.989700043360187,\n",
        "  20.000000000000000])\n",
        "\n",
        "base_line2 = np.array([4.037860e-01, 3.083340e-01, 2.132100e-01, 1.382575e-01, 7.183750e-02,\n",
        "  3.136500e-02, 1.133280e-02 ,3.339900e-03 ,7.619000e-04 ,1.655000e-04,\n",
        "  2.330000e-05 ,3.010000e-06, 3.700000e-07, 6.000000e-08])\n",
        "\n",
        "csitr, base, base2 = plt.semilogy( SNR_array, SER3, SNR, base_line,np.arange(0,27,2), base_line2)\n",
        "plt.grid(True)\n",
        "plt.legend([ csitr, base, base2], ['ser_with_csitr', 'QPSK','Bits-and-power-allocation'])\n",
        "plt.xlabel('SNR')\n",
        "plt.ylabel('SER')\n",
        "plt.savefig('svd_ser.pdf')\n",
        "# files.download('svd_ser.pdf') \n",
        "\n"
      ],
      "execution_count": 0,
      "outputs": [
        {
          "output_type": "display_data",
          "data": {
            "image/png": "[encoded data removed]",
            "text/plain": [
              "<Figure size 864x648 with 1 Axes>"
            ]
          },
          "metadata": {
            "tags": [],
            "needs_background": "light"
          }
        }
      ]
    },
    {
      "cell_type": "code",
      "metadata": {
        "id": "cLmUtOVPAgA5",
        "colab_type": "code",
        "outputId": "06bf311f-930d-47be-b0b1-a9d23626dc7e",
        "colab": {
          "base_uri": "https://localhost:8080/",
          "height": 131
        }
      },
      "source": [
        "auth.authenticate_user()\n",
        "gauth = GoogleAuth()\n",
        "gauth.credentials = GoogleCredentials.get_application_default()                       drive = GoogleDrive(gauth)"
      ],
      "execution_count": 0,
      "outputs": [
        {
          "output_type": "error",
          "ename": "SyntaxError",
          "evalue": "ignored",
          "traceback": [
            "\u001b[0;36m  File \u001b[0;32m\"<ipython-input-14-eb878f30e756>\"\u001b[0;36m, line \u001b[0;32m3\u001b[0m\n\u001b[0;31m    gauth.credentials = GoogleCredentials.get_application_default()                       drive = GoogleDrive(gauth)\u001b[0m\n\u001b[0m                                                                                              ^\u001b[0m\n\u001b[0;31mSyntaxError\u001b[0m\u001b[0;31m:\u001b[0m invalid syntax\n"
          ]
        }
      ]
    },
    {
      "cell_type": "code",
      "metadata": {
        "id": "Q_25dHOyJNL_",
        "colab_type": "code",
        "colab": {}
      },
      "source": [
        "auto_encoder3.save('model.h5')\n",
        "model_file = drive.CreateFile({'title' : 'model.h5'})                       model_file.SetContentFile('model.h5')                       model_file.Upload()"
      ],
      "execution_count": 0,
      "outputs": []
    },
    {
      "cell_type": "code",
      "metadata": {
        "id": "ICtOMizFAroT",
        "colab_type": "code",
        "colab": {}
      },
      "source": [
        ""
      ],
      "execution_count": 0,
      "outputs": []
    },
    {
      "cell_type": "code",
      "metadata": {
        "id": "NgqfYCCq2tHC",
        "colab_type": "code",
        "colab": {}
      },
      "source": [
        ""
      ],
      "execution_count": 0,
      "outputs": []
    }
  ]
}